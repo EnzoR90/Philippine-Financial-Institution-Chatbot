{
 "cells": [
  {
   "cell_type": "code",
   "execution_count": 26,
   "id": "8280c956-ce74-4ba5-a5a9-3e0ad556ee0a",
   "metadata": {},
   "outputs": [
    {
     "name": "stdout",
     "output_type": "stream",
     "text": [
      "Welcome to the Philippine Financial Institutions (FIs) Chatbot! You can ask me about the number of FIs in cities, provinces, or general statistics (e.g., mean, max, min).\n",
      "Type 'exit' to end the conversation.\n"
     ]
    },
    {
     "name": "stdin",
     "output_type": "stream",
     "text": [
      "\n",
      "You:  dumaguete\n"
     ]
    },
    {
     "name": "stdout",
     "output_type": "stream",
     "text": [
      "\n",
      "Chatbot: [{'Cities': 'dumaguete (city/capital)', 'Province': 'Negros Oriental', 'Total Number of Fis': 53.0}]\n"
     ]
    },
    {
     "name": "stdin",
     "output_type": "stream",
     "text": [
      "\n",
      "You:  negros oriental\n"
     ]
    },
    {
     "name": "stdout",
     "output_type": "stream",
     "text": [
      "\n",
      "Chatbot: {'Province': 'negros oriental', 'Total FIs in Province': 126.0, 'Cities and FIs': [{'Cities': 'amlan (ayuquitan)', 'Total Number of Fis': 3.0}, {'Cities': 'ayungon', 'Total Number of Fis': 2.0}, {'Cities': 'bacong', 'Total Number of Fis': 2.0}, {'Cities': 'bais (city)', 'Total Number of Fis': 9.0}, {'Cities': 'basay', 'Total Number of Fis': 1.0}, {'Cities': 'bindoy (payabon)', 'Total Number of Fis': 2.0}, {'Cities': 'canlaon (city)', 'Total Number of Fis': 2.0}, {'Cities': 'city of bayawan (tulong)', 'Total Number of Fis': 16.0}, {'Cities': 'dauin', 'Total Number of Fis': 3.0}, {'Cities': 'dumaguete (city/capital)', 'Total Number of Fis': 53.0}, {'Cities': 'guihulngan city', 'Total Number of Fis': 6.0}, {'Cities': 'jimalalud', 'Total Number of Fis': 2.0}, {'Cities': 'la libertad', 'Total Number of Fis': 0.0}, {'Cities': 'mabinay', 'Total Number of Fis': 2.0}, {'Cities': 'manjuyod', 'Total Number of Fis': 1.0}, {'Cities': 'siaton', 'Total Number of Fis': 5.0}, {'Cities': 'sibulan', 'Total Number of Fis': 6.0}, {'Cities': 'tanjay city', 'Total Number of Fis': 9.0}, {'Cities': 'tayasan', 'Total Number of Fis': 0.0}, {'Cities': 'vallehermosa', 'Total Number of Fis': 1.0}, {'Cities': 'zamboanguita', 'Total Number of Fis': 1.0}], 'City with Highest FIs': {'City': 'dumaguete (city/capital)', 'Total FIs': 53.0}, 'City with Lowest FIs': {'City': 'la libertad', 'Total FIs': 0.0}}\n"
     ]
    },
    {
     "name": "stdin",
     "output_type": "stream",
     "text": [
      "\n",
      "You:  manila\n"
     ]
    },
    {
     "name": "stdout",
     "output_type": "stream",
     "text": [
      "\n",
      "Chatbot: [{'Cities': 'manila', 'Province': 'manila', 'Total Number of Fis': 639.0}]\n"
     ]
    },
    {
     "name": "stdin",
     "output_type": "stream",
     "text": [
      "\n",
      "You:  manila\n"
     ]
    },
    {
     "name": "stdout",
     "output_type": "stream",
     "text": [
      "\n",
      "Chatbot: [{'Cities': 'manila', 'Province': 'manila', 'Total Number of Fis': 639.0}]\n"
     ]
    },
    {
     "name": "stdin",
     "output_type": "stream",
     "text": [
      "\n",
      "You:  davao\n"
     ]
    },
    {
     "name": "stdout",
     "output_type": "stream",
     "text": [
      "\n",
      "Chatbot: [{'Cities': 'davao (city)', 'Province': 'davao del sur', 'Total Number of Fis': 270.0}]\n"
     ]
    },
    {
     "name": "stdin",
     "output_type": "stream",
     "text": [
      "\n",
      "You:  davao del sur\n"
     ]
    },
    {
     "name": "stdout",
     "output_type": "stream",
     "text": [
      "\n",
      "Chatbot: {'Province': 'davao del sur', 'Total FIs in Province': 314.0, 'Cities and FIs': [{'Cities': 'bansalan', 'Total Number of Fis': 6.0}, {'Cities': 'davao (city)', 'Total Number of Fis': 270.0}, {'Cities': 'digos (city/capital)', 'Total Number of Fis': 28.0}, {'Cities': 'kiblawan', 'Total Number of Fis': 1.0}, {'Cities': 'malalag', 'Total Number of Fis': 3.0}, {'Cities': 'matanao', 'Total Number of Fis': 1.0}, {'Cities': 'padada', 'Total Number of Fis': 2.0}, {'Cities': 'sulop', 'Total Number of Fis': 3.0}], 'City with Highest FIs': {'City': 'davao (city)', 'Total FIs': 270.0}, 'City with Lowest FIs': {'City': 'kiblawan', 'Total FIs': 1.0}}\n"
     ]
    },
    {
     "name": "stdin",
     "output_type": "stream",
     "text": [
      "\n",
      "You:  exit\n"
     ]
    },
    {
     "name": "stdout",
     "output_type": "stream",
     "text": [
      "Goodbye!\n"
     ]
    }
   ],
   "source": [
    "import pandas as pd\n",
    "from fuzzywuzzy import fuzz\n",
    "from fuzzywuzzy import process\n",
    "\n",
    "# Load the dataset\n",
    "file_path = '/Users/enzorodriguez/Downloads/MSPPM/Spring 2024/GIS/Final Project/GISProjectEnzoRodriguez/Data/Updated_FinancialInclusion_Final.csv'\n",
    "data = pd.read_csv(file_path)\n",
    "\n",
    "# Prepare city and province lists for matching\n",
    "cities_list = data['Cities'].str.lower().unique()\n",
    "provinces_list = data['Province'].str.lower().unique()\n",
    "\n",
    "# Function to handle fuzzy matching for cities\n",
    "def get_fis_in_city(city_name, df):\n",
    "    city_name = city_name.strip().lower()\n",
    "    df['Cities'] = df['Cities'].str.strip().str.lower()\n",
    "\n",
    "    # Fuzzy match the city with a threshold of 90 to increase accuracy\n",
    "    result = process.extractOne(city_name, df['Cities'], scorer=fuzz.partial_ratio)\n",
    "    \n",
    "    if result:  # Check if a result is returned\n",
    "        closest_match, score = result[0], result[1]  # Unpack the closest match and score\n",
    "        \n",
    "        if score >= 90:  # Stricter matching threshold\n",
    "            city_data = df[df['Cities'] == closest_match]\n",
    "            return city_data[['Cities', 'Province', 'Total Number of Fis']].to_dict(orient='records')\n",
    "    \n",
    "    return f\"No data found for city: {city_name}\"\n",
    "\n",
    "# Updated Function to handle fuzzy matching for provinces and provide detailed stats\n",
    "def get_cities_in_province(province_name, df):\n",
    "    province_name = province_name.strip().lower()\n",
    "    df['Province'] = df['Province'].str.strip().str.lower()\n",
    "\n",
    "    # Fuzzy match the province with a stricter threshold of 90\n",
    "    result = process.extractOne(province_name, df['Province'], scorer=fuzz.partial_ratio)\n",
    "    \n",
    "    if result:  # Check if a result is returned\n",
    "        closest_match, score = result[0], result[1]  # Unpack the closest match and score\n",
    "        \n",
    "        if score >= 90:  # Stricter matching threshold for provinces\n",
    "            # Filter the data for the matched province\n",
    "            province_data = df[df['Province'] == closest_match]\n",
    "            \n",
    "            # List all cities with their FIs\n",
    "            cities_info = province_data[['Cities', 'Total Number of Fis']].to_dict(orient='records')\n",
    "\n",
    "            # Calculate the total FIs in the province\n",
    "            total_fis_in_province = province_data['Total Number of Fis'].sum()\n",
    "\n",
    "            # Find the city with the highest FIs\n",
    "            city_with_highest_fis = province_data.loc[province_data['Total Number of Fis'].idxmax()]\n",
    "\n",
    "            # Find the city with the lowest FIs\n",
    "            city_with_lowest_fis = province_data.loc[province_data['Total Number of Fis'].idxmin()]\n",
    "\n",
    "            # Prepare the response with all the details\n",
    "            response = {\n",
    "                'Province': closest_match,\n",
    "                'Total FIs in Province': total_fis_in_province,\n",
    "                'Cities and FIs': cities_info,\n",
    "                'City with Highest FIs': {\n",
    "                    'City': city_with_highest_fis['Cities'],\n",
    "                    'Total FIs': city_with_highest_fis['Total Number of Fis']\n",
    "                },\n",
    "                'City with Lowest FIs': {\n",
    "                    'City': city_with_lowest_fis['Cities'],\n",
    "                    'Total FIs': city_with_lowest_fis['Total Number of Fis']\n",
    "                }\n",
    "            }\n",
    "            \n",
    "            return response\n",
    "    \n",
    "    return f\"No data found for province: {province_name}\"\n",
    "\n",
    "# Function to find the city with the highest/lowest number of financial institutions\n",
    "def get_city_with_extreme_fis(df, highest=True):\n",
    "    if highest:\n",
    "        city_data = df[df['Total Number of Fis'] == df['Total Number of Fis'].max()]\n",
    "        return city_data[['Cities', 'Province', 'Total Number of Fis']].to_dict(orient='records')\n",
    "    else:\n",
    "        city_data = df[df['Total Number of Fis'] == df['Total Number of Fis'].min()]\n",
    "        return city_data[['Cities', 'Province', 'Total Number of Fis']].to_dict(orient='records')\n",
    "\n",
    "# Function to get general statistics (average FIs per city)\n",
    "def get_average_fis(df):\n",
    "    avg_fis = df['Total Number of Fis'].mean()\n",
    "    return f\"The average number of financial institutions per city is {avg_fis:.2f}\"\n",
    "\n",
    "# Function to detect city or province in the user input using fuzzy matching\n",
    "def detect_city_or_province(user_input, cities_list, provinces_list):\n",
    "    user_input = user_input.lower()\n",
    "\n",
    "    # Fuzzy match city with a higher threshold of 90 for more precise matches\n",
    "    closest_city = process.extractOne(user_input, cities_list, scorer=fuzz.partial_ratio)\n",
    "    if closest_city and closest_city[1] >= 90:\n",
    "        return 'city', closest_city[0]\n",
    "\n",
    "    # Fuzzy match province with a threshold of 90 for more accurate matches\n",
    "    closest_province = process.extractOne(user_input, provinces_list, scorer=fuzz.partial_ratio)\n",
    "    if closest_province and closest_province[1] >= 90:\n",
    "        return 'province', closest_province[0]\n",
    "\n",
    "    return None, None\n",
    "\n",
    "# Main chatbot loop\n",
    "def chatbot():\n",
    "    print(\"Welcome to the Philippine Financial Institutions (FIs) Chatbot! You can ask me about the number of FIs in cities, provinces, or general statistics (e.g., mean, max, min).\")\n",
    "    print(\"Type 'exit' to end the conversation.\")\n",
    "\n",
    "    while True:\n",
    "        user_input = input(\"\\nYou: \").lower()\n",
    "\n",
    "        # Exit condition\n",
    "        if user_input == \"exit\":\n",
    "            print(\"Goodbye!\")\n",
    "            break\n",
    "\n",
    "        # Detect if input contains a city or province using fuzzy matching\n",
    "        entity_type, entity_value = detect_city_or_province(user_input, cities_list, provinces_list)\n",
    "\n",
    "        # If a city is detected in the input\n",
    "        if entity_type == 'city':\n",
    "            response = get_fis_in_city(entity_value, data)\n",
    "            print(f\"\\nChatbot: {response}\")\n",
    "\n",
    "        # If a province is detected in the input\n",
    "        elif entity_type == 'province':\n",
    "            response = get_cities_in_province(entity_value, data)\n",
    "            print(f\"\\nChatbot: {response}\")\n",
    "\n",
    "        # Check for highest financial institutions query (specific keywords)\n",
    "        elif \"highest\" in user_input or \"most\" in user_input:\n",
    "            response = get_city_with_extreme_fis(data, highest=True)\n",
    "            print(f\"\\nChatbot: {response}\")\n",
    "\n",
    "        # Check for lowest financial institutions query\n",
    "        elif \"lowest\" in user_input or \"fewest\" in user_input:\n",
    "            response = get_city_with_extreme_fis(data, highest=False)\n",
    "            print(f\"\\nChatbot: {response}\")\n",
    "\n",
    "        # Check for general statistics query\n",
    "        elif \"average\" in user_input or \"statistics\" in user_input:\n",
    "            response = get_average_fis(data)\n",
    "            print(f\"\\nChatbot: {response}\")\n",
    "\n",
    "        # If no known pattern is matched\n",
    "        else:\n",
    "            print(\"Chatbot: I'm sorry, I don't understand your query. Please ask about cities, provinces, or statistics.\")\n",
    "\n",
    "# Run the chatbot\n",
    "if __name__ == \"__main__\":\n",
    "    chatbot()"
   ]
  },
  {
   "cell_type": "code",
   "execution_count": null,
   "id": "1fa47941-f29d-42a5-8a0c-d74322de888d",
   "metadata": {},
   "outputs": [],
   "source": []
  }
 ],
 "metadata": {
  "kernelspec": {
   "display_name": "Python 3 (ipykernel)",
   "language": "python",
   "name": "python3"
  },
  "language_info": {
   "codemirror_mode": {
    "name": "ipython",
    "version": 3
   },
   "file_extension": ".py",
   "mimetype": "text/x-python",
   "name": "python",
   "nbconvert_exporter": "python",
   "pygments_lexer": "ipython3",
   "version": "3.12.4"
  }
 },
 "nbformat": 4,
 "nbformat_minor": 5
}
